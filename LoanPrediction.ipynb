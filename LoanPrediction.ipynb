{
 "cells": [
  {
   "cell_type": "markdown",
   "id": "f1e6b099-e8ef-4aaa-9672-d356bc6ddeaf",
   "metadata": {},
   "source": [
    "# LoanPrediction -  Krediyi ödeme şansı daha düşük olan müşterileri belirleme"
   ]
  },
  {
   "cell_type": "markdown",
   "id": "23fd8db3-c04d-444a-925e-6fa5116b5287",
   "metadata": {},
   "source": [
    "### İmport the Data"
   ]
  },
  {
   "cell_type": "code",
   "execution_count": null,
   "id": "319503da-ff5a-4d6f-949c-dd32abc12563",
   "metadata": {},
   "outputs": [],
   "source": [
    "import pandas as pd #ython programlama dilinde Pandas kütüphanesini içe aktarma\n",
    "import numpy as np # Python programlama dilinde NumPy kütüphanesini içe aktarma\n",
    "\n",
    "import warnings\n",
    "warnings.filterwarnings('ignore') # tüm uyarı mesajlarının görmezden gelme\n",
    "\n",
    "import matplotlib.pyplot as plt # Python'da veri görselleştirme\n",
    "\n",
    "from sklearn.model_selection import train_test_split #  bir veri setini eğitim ve test setlerine ayırma\n",
    "from sklearn.ensemble import RandomForestClassifier #, birden fazla karar ağacından oluşur ve bu ağaçların sonuçlarını birleştirerek daha iyi tahminler elde etme\n",
    "from sklearn.metrics import classification_report, accuracy_score # Model tahmini\n",
    "from sklearn.preprocessing import LabelEncoder #Kategorik değişkenleri sayısal değerlere dönüştürme\n",
    "# Python'da makine öğrenimi uygulamaları için kullanılan scikit-learn kütüphanesinden çeşitli bileşenleri içe aktarma"
   ]
  },
  {
   "cell_type": "code",
   "execution_count": null,
   "id": "08eea5df-510f-4762-9e77-413f63875a93",
   "metadata": {},
   "outputs": [],
   "source": [
    "df=pd.read_csv('LoansTrainingSet.csv')"
   ]
  },
  {
   "cell_type": "markdown",
   "id": "9b9e1676-06d3-4dd9-be8a-39f0cfc691c4",
   "metadata": {},
   "source": [
    "### EDA -Exploratory Data Analysis"
   ]
  },
  {
   "cell_type": "code",
   "execution_count": null,
   "id": "d9d5c521-b35b-49a8-b55d-4b6387359d48",
   "metadata": {
    "scrolled": true
   },
   "outputs": [],
   "source": [
    "df"
   ]
  },
  {
   "cell_type": "code",
   "execution_count": null,
   "id": "0806d8e5-e33a-4145-8798-36c220246613",
   "metadata": {},
   "outputs": [],
   "source": [
    "df.shape;"
   ]
  },
  {
   "cell_type": "code",
   "execution_count": null,
   "id": "bd35deb4-9f34-4e62-9867-d49d6421e4ea",
   "metadata": {},
   "outputs": [],
   "source": [
    "df.info()"
   ]
  },
  {
   "cell_type": "code",
   "execution_count": null,
   "id": "ee7b7652-c99e-4d9a-960e-2b3d54046596",
   "metadata": {
    "scrolled": true
   },
   "outputs": [],
   "source": [
    "df.describe() # Temel istatistiksel özet"
   ]
  },
  {
   "cell_type": "code",
   "execution_count": null,
   "id": "a5edfb18-d396-433c-9ab7-8aeb88f9099f",
   "metadata": {},
   "outputs": [],
   "source": [
    "df.corr(numeric_only=True) # Sayısal sütunalrı arasındaki korelasyon matrisi"
   ]
  },
  {
   "cell_type": "code",
   "execution_count": null,
   "id": "e7280235-fcf0-4c05-914e-04bc2c534cd2",
   "metadata": {
    "scrolled": true
   },
   "outputs": [],
   "source": [
    "df.isnull().sum() # Eksikm değerlerin sayıısnı hesaplar"
   ]
  },
  {
   "cell_type": "code",
   "execution_count": null,
   "id": "d036c90f-8083-4131-b115-9d090ac435da",
   "metadata": {
    "scrolled": true
   },
   "outputs": [],
   "source": [
    "df.columns"
   ]
  },
  {
   "cell_type": "markdown",
   "id": "470ddef5-0a41-454e-90ce-0136002d3c30",
   "metadata": {},
   "source": [
    "### Data Data Preparation"
   ]
  },
  {
   "cell_type": "code",
   "execution_count": null,
   "id": "8b6c8591-cb20-47a8-9a56-b98fbfe369bb",
   "metadata": {},
   "outputs": [],
   "source": [
    "df = df.drop_duplicates() #Tekrarları kaldırma"
   ]
  },
  {
   "cell_type": "code",
   "execution_count": null,
   "id": "c1e9a852-b6a0-41df-8fe9-9574b1cf8a35",
   "metadata": {
    "scrolled": true
   },
   "outputs": [],
   "source": [
    "df"
   ]
  },
  {
   "cell_type": "code",
   "execution_count": null,
   "id": "03daca00-b3ec-4941-9bde-3e6573bcf220",
   "metadata": {},
   "outputs": [],
   "source": [
    "numeric_cols = df.select_dtypes(include=[np.number]).columns\n",
    "df[numeric_cols] = df[numeric_cols].fillna(df[numeric_cols].median()) # sayısal sütunlar için eksik değerleri orta değer ile atama "
   ]
  },
  {
   "cell_type": "code",
   "execution_count": null,
   "id": "7a335312-94cf-445a-97df-1870aec926e5",
   "metadata": {},
   "outputs": [],
   "source": [
    "categorical_cols = df.select_dtypes(include=['object']).columns # kategorik sütunları bulma"
   ]
  },
  {
   "cell_type": "code",
   "execution_count": null,
   "id": "3941f5f3-8547-4ff2-a68e-9f8cd634120b",
   "metadata": {},
   "outputs": [],
   "source": [
    "df[categorical_cols] = df[categorical_cols].apply(\n",
    "    lambda col: col.fillna(col.mode().iloc[0]) \n",
    ") # kategorik sütunlara tekrarlanan veriyi atama"
   ]
  },
  {
   "cell_type": "code",
   "execution_count": null,
   "id": "0a48a11f-db6e-4be5-b696-beb30e32a11c",
   "metadata": {},
   "outputs": [],
   "source": [
    "print(df.isnull().sum());"
   ]
  },
  {
   "cell_type": "code",
   "execution_count": null,
   "id": "aeb1dc1a-d48d-4e34-9805-da4937e1ff36",
   "metadata": {
    "scrolled": true
   },
   "outputs": [],
   "source": [
    "df"
   ]
  },
  {
   "cell_type": "code",
   "execution_count": null,
   "id": "a088f767-49d6-4618-988b-d2aea6c90ed4",
   "metadata": {},
   "outputs": [],
   "source": [
    "df['Loan Status'].unique()"
   ]
  },
  {
   "cell_type": "code",
   "execution_count": null,
   "id": "b3ccc3e1-1acb-43d8-bbbf-5ef0fe2cca9d",
   "metadata": {},
   "outputs": [],
   "source": [
    "df['Term'].unique()"
   ]
  },
  {
   "cell_type": "code",
   "execution_count": null,
   "id": "492bbcd2-f0e3-45d8-8bd5-d25039607f3b",
   "metadata": {},
   "outputs": [],
   "source": [
    "df['Home Ownership'].unique()"
   ]
  },
  {
   "cell_type": "code",
   "execution_count": null,
   "id": "174a174a-c20f-4a1d-8a88-0c54d9a564b4",
   "metadata": {},
   "outputs": [],
   "source": [
    "df[categorical_cols] = df[categorical_cols].apply(lambda col: LabelEncoder().fit_transform(col.astype(str)))"
   ]
  },
  {
   "cell_type": "markdown",
   "id": "69892cc2-3397-4d54-b1cf-84f181356028",
   "metadata": {},
   "source": [
    " d={'Charged Off':0,'Fully Paid':1},\n",
    " d={'Short Term':0,'Long Term':1}----yapmamıza gerek yok apply ile yaptık"
   ]
  },
  {
   "cell_type": "code",
   "execution_count": null,
   "id": "16a40e93-a06e-4ed0-baf2-efdbbc4641b0",
   "metadata": {},
   "outputs": [],
   "source": [
    "df[categorical_cols]"
   ]
  },
  {
   "cell_type": "markdown",
   "id": "210db468-10fd-4cea-9377-649c59986cb5",
   "metadata": {},
   "source": [
    "Özellik Mühendisliği: Kredi Kullanım Oranı"
   ]
  },
  {
   "cell_type": "code",
   "execution_count": null,
   "id": "4a04ee98-d72f-495a-ad45-92de09868d0e",
   "metadata": {},
   "outputs": [],
   "source": [
    "df['Credit_Utilization'] = df['Current Credit Balance'] / df['Current Loan Amount'].replace(0, np.nan)"
   ]
  },
  {
   "cell_type": "markdown",
   "id": "6fda2056-45dc-4b6e-8d91-73691ef551cc",
   "metadata": {},
   "source": [
    "Eğitim ve Test Setlerine Ayır"
   ]
  },
  {
   "cell_type": "code",
   "execution_count": null,
   "id": "0a7d2c74-935f-4d7d-adf4-39da66e0c854",
   "metadata": {},
   "outputs": [],
   "source": [
    "x = df.drop(['Loan Status', 'Loan ID', 'Customer ID'], axis=1)  # Özellikler\n",
    "y = df[['Loan Status']]  # Hedef değişken"
   ]
  },
  {
   "cell_type": "code",
   "execution_count": null,
   "id": "9ee5018e-c04a-41de-95d8-8ffd1bcb6fc4",
   "metadata": {},
   "outputs": [],
   "source": [
    "x_train, x_test, y_train, y_test = train_test_split(x, y, test_size=0.3, random_state=42)"
   ]
  },
  {
   "cell_type": "markdown",
   "id": "83e27d6a-24b7-45d8-be33-016ba53fe547",
   "metadata": {},
   "source": [
    "Modelleme"
   ]
  },
  {
   "cell_type": "code",
   "execution_count": null,
   "id": "ae2648dd-9c02-47b7-bf1f-dad286e37610",
   "metadata": {},
   "outputs": [],
   "source": [
    "model = RandomForestClassifier(random_state=42)\n",
    "r=RandomForestClassifier()"
   ]
  },
  {
   "cell_type": "code",
   "execution_count": null,
   "id": "3493cbd0-19c5-4bd2-9cb4-a00c05c470ed",
   "metadata": {},
   "outputs": [],
   "source": [
    "r.fit(x_train, y_train)  # Modeli eğit"
   ]
  },
  {
   "cell_type": "code",
   "execution_count": null,
   "id": "b4980d4e-6e19-45e0-9c37-9d45e09892ad",
   "metadata": {},
   "outputs": [],
   "source": [
    "rtahmin = r.predict(x_test)\n",
    "print(\"Accuracy:\", accuracy_score(y_test, rtahmin))\n",
    "print(classification_report(y_test, rtahmin))"
   ]
  },
  {
   "cell_type": "markdown",
   "id": "0d85f412-09a5-4995-8ac1-53cc3b113368",
   "metadata": {},
   "source": [
    "Soru Oluşturulması"
   ]
  },
  {
   "cell_type": "code",
   "execution_count": null,
   "id": "ee166a64-df1a-4570-8774-0616495fb08a",
   "metadata": {},
   "outputs": [],
   "source": [
    "importances = r.feature_importances_\n",
    "feature_names = x.columns\n",
    "importance_df = pd.DataFrame({'Feature': feature_names, 'Importance': importances}).sort_values(by='Importance', ascending=False)"
   ]
  },
  {
   "cell_type": "markdown",
   "id": "5dfde6e8-4288-4a4e-ae62-08154a805705",
   "metadata": {},
   "source": [
    " Önemli sorular oluştur"
   ]
  },
  {
   "cell_type": "code",
   "execution_count": null,
   "id": "4a486132-bc93-4372-b25e-e11a6a745f0a",
   "metadata": {},
   "outputs": [],
   "source": [
    "questions = importance_df['Feature'].head(5).apply(lambda x: f\"What is your {x.replace('_', ' ').lower()}?\")"
   ]
  },
  {
   "cell_type": "code",
   "execution_count": null,
   "id": "3121fcc8-42d7-4554-a88e-804575e1b3eb",
   "metadata": {},
   "outputs": [],
   "source": [
    "print(\"\\nQuestions to ask the customer:\")\n",
    "print('\\n'.join(questions))"
   ]
  },
  {
   "cell_type": "code",
   "execution_count": null,
   "id": "d5c4a557-202b-4669-b78c-e8497e5826ca",
   "metadata": {},
   "outputs": [],
   "source": []
  }
 ],
 "metadata": {
  "kernelspec": {
   "display_name": "Python [conda env:base] *",
   "language": "python",
   "name": "conda-base-py"
  },
  "language_info": {
   "codemirror_mode": {
    "name": "ipython",
    "version": 3
   },
   "file_extension": ".py",
   "mimetype": "text/x-python",
   "name": "python",
   "nbconvert_exporter": "python",
   "pygments_lexer": "ipython3",
   "version": "3.12.7"
  }
 },
 "nbformat": 4,
 "nbformat_minor": 5
}
